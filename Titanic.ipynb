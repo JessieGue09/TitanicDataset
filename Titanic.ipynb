{
  "nbformat": 4,
  "nbformat_minor": 2,
  "metadata": {
    "colab": {
      "name": "Untitled1.ipynb",
      "provenance": [],
      "toc_visible": true
    },
    "kernelspec": {
      "name": "python3",
      "display_name": "Python 3"
    },
    "language_info": {
      "name": "python"
    }
  },
  "cells": [
    {
      "cell_type": "markdown",
      "source": [
        "## **Importar librerias.**"
      ],
      "metadata": {
        "id": "yeIJpv2aov6_"
      }
    },
    {
      "cell_type": "code",
      "execution_count": 158,
      "source": [
        "import pandas as pd\r\n",
        "import numpy as np \r\n",
        "import seaborn as sns\r\n",
        "import matplotlib.pyplot as plt\r\n",
        "from sklearn.neighbors import KNeighborsRegressor\r\n",
        "import matplotlib.pyplot as plt\r\n",
        "from sklearn.metrics import mean_squared_error, r2_score\r\n",
        "from matplotlib import pyplot as pl\r\n",
        "from sklearn.preprocessing import StandardScaler\r\n",
        "from sklearn import preprocessing\r\n",
        "from sklearn.preprocessing import LabelEncoder\r\n",
        "from sklearn.tree import DecisionTreeRegressor\r\n",
        "from sklearn import svm\r\n",
        "from sklearn.preprocessing import OrdinalEncoder\r\n",
        "from sklearn.linear_model import LinearRegression\r\n",
        "from sklearn.svm import SVR"
      ],
      "outputs": [],
      "metadata": {
        "id": "csRBWWzlenD5"
      }
    },
    {
      "cell_type": "markdown",
      "source": [
        "## **Cargar el dataset**\n",
        "\n",
        "---\n",
        "Dos opciones: \n",
        "1. Descargando la base de datos y subir la carpeta.\n",
        "2. Mandarlo a llamar desde internet.\n",
        "\n",
        "\n",
        "\n"
      ],
      "metadata": {
        "id": "zZlgITKReqm6"
      }
    },
    {
      "cell_type": "markdown",
      "source": [
        "Descargar y subir la carpeta con la base de datos *(Opción principal implementada para el programa.)*"
      ],
      "metadata": {
        "id": "SLak3OAXoPih"
      }
    },
    {
      "cell_type": "code",
      "execution_count": 94,
      "source": [
        "def concat_df(train_data, test_data):\r\n",
        "  return pd.concat([train_data, test_data], sort=True)\r\n",
        "\r\n",
        "def divide_df(all_data):\r\n",
        "  return all_data.loc[:890], all_data.loc[891:].drop(['Survived'], axis=1)"
      ],
      "outputs": [],
      "metadata": {
        "id": "oLMIsbPVg6a7"
      }
    },
    {
      "cell_type": "code",
      "execution_count": 144,
      "source": [
        "train_data = pd.read_csv(\"train.csvtest.csv\")\r\n",
        "test_data = pd.read_csv(\"test.csv\")\r\n",
        "\r\n",
        "df_all = concat_df(train_data, test_data)\r\n",
        "dfs = [train_data, test_data]"
      ],
      "outputs": [],
      "metadata": {
        "id": "qtpZ_ZkWkr-1"
      }
    },
    {
      "cell_type": "markdown",
      "source": [
        "Manadar a llamar el dataset desde internet."
      ],
      "metadata": {
        "id": "NSFSczX5oeMt"
      }
    },
    {
      "cell_type": "code",
      "execution_count": 96,
      "source": [
        "titanic = sns.load_dataset('titanic')"
      ],
      "outputs": [],
      "metadata": {
        "id": "dKyu3d8uqMb-"
      }
    },
    {
      "cell_type": "markdown",
      "source": [
        "## Introducción\n",
        "\n",
        "\n",
        "---\n",
        "El estatus economico en el dataset se muestra de la siguiente forma:\n",
        "1.   Upper: Clase alta\n",
        "2.   Middle: Clse media\n",
        "3.   Lower: Clase baja\n",
        "\n",
        "La forma de nombrar a las relaciones familiares se muestra de la siguiente forma:\n",
        "*   Sibling: Hermano, hermana\n",
        "*   Spouse: Esposo, esposa (los novios y amantes fueron ignorados)\n",
        "\n",
        "La forma de nombrar las realciones de familiares se definde de la siguiente manera\n",
        "*   Parent: Padre, madre\n",
        "*   Child: Hija, hijo, etc.\n",
        "\n",
        "\n",
        "\n",
        "\n",
        "\n",
        "\n"
      ],
      "metadata": {
        "id": "lt4GLysm3Js9"
      }
    },
    {
      "cell_type": "markdown",
      "source": [
        "Comprobación de calidad de datos.\n",
        "\n",
        "> Train contiene todas las caracteristicas y posibles predictores, al igual que la variable que se va a predecir.\n",
        "\n",
        "\n",
        "> Test se usa para el envio, por tanto falta de implementar la variable de destino.\n",
        "\n",
        "\n",
        " "
      ],
      "metadata": {
        "id": "IucLUUW141pr"
      }
    },
    {
      "cell_type": "code",
      "execution_count": 97,
      "source": [
        "print(\"Train data contains: \" + str(len(train_data)) + \" rows and \" + str(len(train_data.columns)) + \" colums\")\n",
        "print(\"Test data contains: \" + str(len(test_data)) + \" rows and \" + str(len(test_data.columns)) + \" colums\")"
      ],
      "outputs": [
        {
          "output_type": "stream",
          "name": "stdout",
          "text": [
            "Train data contains: 891 rows and 12 colums\n",
            "Test data contains: 418 rows and 11 colums\n"
          ]
        }
      ],
      "metadata": {
        "colab": {
          "base_uri": "https://localhost:8080/"
        },
        "id": "3DB8uyB6pPD8",
        "outputId": "99564568-fc62-468b-ad0d-8ab5f763939a"
      }
    },
    {
      "cell_type": "code",
      "execution_count": 98,
      "source": [
        "print(\"First 3 rows of the train data:\")\n",
        "display(train_data.head(3))\n",
        "print(\"First 3 rows of the test data:\")\n",
        "display(test_data.head(3))"
      ],
      "outputs": [
        {
          "output_type": "stream",
          "name": "stdout",
          "text": [
            "First 3 rows of the train data:\n"
          ]
        },
        {
          "output_type": "display_data",
          "data": {
            "text/html": [
              "<div>\n",
              "<style scoped>\n",
              "    .dataframe tbody tr th:only-of-type {\n",
              "        vertical-align: middle;\n",
              "    }\n",
              "\n",
              "    .dataframe tbody tr th {\n",
              "        vertical-align: top;\n",
              "    }\n",
              "\n",
              "    .dataframe thead th {\n",
              "        text-align: right;\n",
              "    }\n",
              "</style>\n",
              "<table border=\"1\" class=\"dataframe\">\n",
              "  <thead>\n",
              "    <tr style=\"text-align: right;\">\n",
              "      <th></th>\n",
              "      <th>PassengerId</th>\n",
              "      <th>Survived</th>\n",
              "      <th>Pclass</th>\n",
              "      <th>Name</th>\n",
              "      <th>Sex</th>\n",
              "      <th>Age</th>\n",
              "      <th>SibSp</th>\n",
              "      <th>Parch</th>\n",
              "      <th>Ticket</th>\n",
              "      <th>Fare</th>\n",
              "      <th>Cabin</th>\n",
              "      <th>Embarked</th>\n",
              "    </tr>\n",
              "  </thead>\n",
              "  <tbody>\n",
              "    <tr>\n",
              "      <th>0</th>\n",
              "      <td>1</td>\n",
              "      <td>0</td>\n",
              "      <td>3</td>\n",
              "      <td>Braund, Mr. Owen Harris</td>\n",
              "      <td>male</td>\n",
              "      <td>22.0</td>\n",
              "      <td>1</td>\n",
              "      <td>0</td>\n",
              "      <td>A/5 21171</td>\n",
              "      <td>7.2500</td>\n",
              "      <td>NaN</td>\n",
              "      <td>S</td>\n",
              "    </tr>\n",
              "    <tr>\n",
              "      <th>1</th>\n",
              "      <td>2</td>\n",
              "      <td>1</td>\n",
              "      <td>1</td>\n",
              "      <td>Cumings, Mrs. John Bradley (Florence Briggs Th...</td>\n",
              "      <td>female</td>\n",
              "      <td>38.0</td>\n",
              "      <td>1</td>\n",
              "      <td>0</td>\n",
              "      <td>PC 17599</td>\n",
              "      <td>71.2833</td>\n",
              "      <td>C85</td>\n",
              "      <td>C</td>\n",
              "    </tr>\n",
              "    <tr>\n",
              "      <th>2</th>\n",
              "      <td>3</td>\n",
              "      <td>1</td>\n",
              "      <td>3</td>\n",
              "      <td>Heikkinen, Miss. Laina</td>\n",
              "      <td>female</td>\n",
              "      <td>26.0</td>\n",
              "      <td>0</td>\n",
              "      <td>0</td>\n",
              "      <td>STON/O2. 3101282</td>\n",
              "      <td>7.9250</td>\n",
              "      <td>NaN</td>\n",
              "      <td>S</td>\n",
              "    </tr>\n",
              "  </tbody>\n",
              "</table>\n",
              "</div>"
            ],
            "text/plain": [
              "   PassengerId  Survived  Pclass  ...     Fare Cabin  Embarked\n",
              "0            1         0       3  ...   7.2500   NaN         S\n",
              "1            2         1       1  ...  71.2833   C85         C\n",
              "2            3         1       3  ...   7.9250   NaN         S\n",
              "\n",
              "[3 rows x 12 columns]"
            ]
          },
          "metadata": {}
        },
        {
          "output_type": "stream",
          "name": "stdout",
          "text": [
            "First 3 rows of the test data:\n"
          ]
        },
        {
          "output_type": "display_data",
          "data": {
            "text/html": [
              "<div>\n",
              "<style scoped>\n",
              "    .dataframe tbody tr th:only-of-type {\n",
              "        vertical-align: middle;\n",
              "    }\n",
              "\n",
              "    .dataframe tbody tr th {\n",
              "        vertical-align: top;\n",
              "    }\n",
              "\n",
              "    .dataframe thead th {\n",
              "        text-align: right;\n",
              "    }\n",
              "</style>\n",
              "<table border=\"1\" class=\"dataframe\">\n",
              "  <thead>\n",
              "    <tr style=\"text-align: right;\">\n",
              "      <th></th>\n",
              "      <th>PassengerId</th>\n",
              "      <th>Pclass</th>\n",
              "      <th>Name</th>\n",
              "      <th>Sex</th>\n",
              "      <th>Age</th>\n",
              "      <th>SibSp</th>\n",
              "      <th>Parch</th>\n",
              "      <th>Ticket</th>\n",
              "      <th>Fare</th>\n",
              "      <th>Cabin</th>\n",
              "      <th>Embarked</th>\n",
              "    </tr>\n",
              "  </thead>\n",
              "  <tbody>\n",
              "    <tr>\n",
              "      <th>0</th>\n",
              "      <td>892</td>\n",
              "      <td>3</td>\n",
              "      <td>Kelly, Mr. James</td>\n",
              "      <td>male</td>\n",
              "      <td>34.5</td>\n",
              "      <td>0</td>\n",
              "      <td>0</td>\n",
              "      <td>330911</td>\n",
              "      <td>7.8292</td>\n",
              "      <td>NaN</td>\n",
              "      <td>Q</td>\n",
              "    </tr>\n",
              "    <tr>\n",
              "      <th>1</th>\n",
              "      <td>893</td>\n",
              "      <td>3</td>\n",
              "      <td>Wilkes, Mrs. James (Ellen Needs)</td>\n",
              "      <td>female</td>\n",
              "      <td>47.0</td>\n",
              "      <td>1</td>\n",
              "      <td>0</td>\n",
              "      <td>363272</td>\n",
              "      <td>7.0000</td>\n",
              "      <td>NaN</td>\n",
              "      <td>S</td>\n",
              "    </tr>\n",
              "    <tr>\n",
              "      <th>2</th>\n",
              "      <td>894</td>\n",
              "      <td>2</td>\n",
              "      <td>Myles, Mr. Thomas Francis</td>\n",
              "      <td>male</td>\n",
              "      <td>62.0</td>\n",
              "      <td>0</td>\n",
              "      <td>0</td>\n",
              "      <td>240276</td>\n",
              "      <td>9.6875</td>\n",
              "      <td>NaN</td>\n",
              "      <td>Q</td>\n",
              "    </tr>\n",
              "  </tbody>\n",
              "</table>\n",
              "</div>"
            ],
            "text/plain": [
              "   PassengerId  Pclass                              Name  ...    Fare  Cabin  Embarked\n",
              "0          892       3                  Kelly, Mr. James  ...  7.8292    NaN         Q\n",
              "1          893       3  Wilkes, Mrs. James (Ellen Needs)  ...  7.0000    NaN         S\n",
              "2          894       2         Myles, Mr. Thomas Francis  ...  9.6875    NaN         Q\n",
              "\n",
              "[3 rows x 11 columns]"
            ]
          },
          "metadata": {}
        }
      ],
      "metadata": {
        "colab": {
          "base_uri": "https://localhost:8080/",
          "height": 622
        },
        "id": "GY4Jj6Ny5iRO",
        "outputId": "6d6383dd-1e7f-4851-f616-78faaa005a0e"
      }
    },
    {
      "cell_type": "code",
      "execution_count": 99,
      "source": [
        "print(\"Missings in the train data:\")\n",
        "display(train_data.isnull().sum())\n",
        "print(\"Missings in the test data:\")\n",
        "display(test_data.isnull().sum())"
      ],
      "outputs": [
        {
          "output_type": "stream",
          "name": "stdout",
          "text": [
            "Missings in the train data:\n"
          ]
        },
        {
          "output_type": "display_data",
          "data": {
            "text/plain": [
              "PassengerId      0\n",
              "Survived         0\n",
              "Pclass           0\n",
              "Name             0\n",
              "Sex              0\n",
              "Age            177\n",
              "SibSp            0\n",
              "Parch            0\n",
              "Ticket           0\n",
              "Fare             0\n",
              "Cabin          687\n",
              "Embarked         2\n",
              "dtype: int64"
            ]
          },
          "metadata": {}
        },
        {
          "output_type": "stream",
          "name": "stdout",
          "text": [
            "Missings in the test data:\n"
          ]
        },
        {
          "output_type": "display_data",
          "data": {
            "text/plain": [
              "PassengerId      0\n",
              "Pclass           0\n",
              "Name             0\n",
              "Sex              0\n",
              "Age             86\n",
              "SibSp            0\n",
              "Parch            0\n",
              "Ticket           0\n",
              "Fare             1\n",
              "Cabin          327\n",
              "Embarked         0\n",
              "dtype: int64"
            ]
          },
          "metadata": {}
        }
      ],
      "metadata": {
        "colab": {
          "base_uri": "https://localhost:8080/",
          "height": 470
        },
        "id": "wxqqzmuM6fJo",
        "outputId": "074f9e1f-ecd8-4f0c-b9af-d23a1795a9d8"
      }
    },
    {
      "cell_type": "markdown",
      "source": [
        "En los datos de entrenamiento tenemos faltas en la columna de edad, cabina y embarcado. En el conjunto de datos de prueba faltan las columnas de edad, tarifa y cabina. "
      ],
      "metadata": {
        "id": "cGmKsJic68sN"
      }
    },
    {
      "cell_type": "code",
      "execution_count": 100,
      "source": [
        "df_all = concat_df(train_data, test_data)"
      ],
      "outputs": [],
      "metadata": {
        "id": "Bcw_y62n7PAu"
      }
    },
    {
      "cell_type": "markdown",
      "source": [
        "## Limpieza del dataset"
      ],
      "metadata": {
        "id": "ICjr4JfF6_DO"
      }
    },
    {
      "cell_type": "markdown",
      "source": [
        "### Edad"
      ],
      "metadata": {
        "id": "eIINqoSj7a5D"
      }
    },
    {
      "cell_type": "code",
      "execution_count": 101,
      "source": [
        "print(\"Missings for age in the entire data set: \" + str(df_all['Age'].isnull().sum()))\n",
        "print(\"Missings in percentage: \" + str(round(df_all['Age'].isnull().sum()/len(df_all)*100,0)) + \" % \")"
      ],
      "outputs": [
        {
          "output_type": "stream",
          "name": "stdout",
          "text": [
            "Missings for age in the entire data set: 263\n",
            "Missings in percentage: 20.0 % \n"
          ]
        }
      ],
      "metadata": {
        "colab": {
          "base_uri": "https://localhost:8080/"
        },
        "id": "7QIHZSzh7X3O",
        "outputId": "3626618e-8948-4fb4-d2e6-906264ddd831"
      }
    },
    {
      "cell_type": "code",
      "execution_count": 102,
      "source": [
        "print('Median for Age separated by Pclass:')\n",
        "display(train_data.groupby('Pclass')['Age'].median())\n",
        "\n",
        "print('Median for Age separated by Pclass and Sex:')\n",
        "display(train_data.groupby(['Pclass', 'Sex'])['Age'].median())\n",
        "\n",
        "print('Number of cases:')\n",
        "display(train_data.groupby(['Pclass', 'Sex'])['Age'].count())"
      ],
      "outputs": [
        {
          "output_type": "stream",
          "name": "stdout",
          "text": [
            "Median for Age separated by Pclass:\n"
          ]
        },
        {
          "output_type": "display_data",
          "data": {
            "text/plain": [
              "Pclass\n",
              "1    37.0\n",
              "2    29.0\n",
              "3    24.0\n",
              "Name: Age, dtype: float64"
            ]
          },
          "metadata": {}
        },
        {
          "output_type": "stream",
          "name": "stdout",
          "text": [
            "Median for Age separated by Pclass and Sex:\n"
          ]
        },
        {
          "output_type": "display_data",
          "data": {
            "text/plain": [
              "Pclass  Sex   \n",
              "1       female    35.0\n",
              "        male      40.0\n",
              "2       female    28.0\n",
              "        male      30.0\n",
              "3       female    21.5\n",
              "        male      25.0\n",
              "Name: Age, dtype: float64"
            ]
          },
          "metadata": {}
        },
        {
          "output_type": "stream",
          "name": "stdout",
          "text": [
            "Number of cases:\n"
          ]
        },
        {
          "output_type": "display_data",
          "data": {
            "text/plain": [
              "Pclass  Sex   \n",
              "1       female     85\n",
              "        male      101\n",
              "2       female     74\n",
              "        male       99\n",
              "3       female    102\n",
              "        male      253\n",
              "Name: Age, dtype: int64"
            ]
          },
          "metadata": {}
        }
      ],
      "metadata": {
        "colab": {
          "base_uri": "https://localhost:8080/",
          "height": 420
        },
        "id": "tzjqxn5A8xuH",
        "outputId": "49dd3475-4de9-4aa0-fcf0-57aa000d1f80"
      }
    },
    {
      "cell_type": "markdown",
      "source": [
        "Remplazar los valores vacios con las medias de cada grupo."
      ],
      "metadata": {
        "id": "LDPfAExQ-F1B"
      }
    },
    {
      "cell_type": "code",
      "execution_count": 103,
      "source": [
        "df_all = df_all[~df_all.index.duplicated()]\n",
        "df_all['Age'] = df_all.groupby(['Pclass', 'Sex'])['Age'].apply(lambda x: x.fillna(x.median()))"
      ],
      "outputs": [],
      "metadata": {
        "id": "hYerDIPa-ONO"
      }
    },
    {
      "cell_type": "markdown",
      "source": [
        "### Tarifa"
      ],
      "metadata": {
        "id": "IOnMrQa5BrNI"
      }
    },
    {
      "cell_type": "code",
      "execution_count": 104,
      "source": [
        "df_all.loc[df_all['Fare'].isnull()]"
      ],
      "outputs": [
        {
          "output_type": "execute_result",
          "data": {
            "text/html": [
              "<div>\n",
              "<style scoped>\n",
              "    .dataframe tbody tr th:only-of-type {\n",
              "        vertical-align: middle;\n",
              "    }\n",
              "\n",
              "    .dataframe tbody tr th {\n",
              "        vertical-align: top;\n",
              "    }\n",
              "\n",
              "    .dataframe thead th {\n",
              "        text-align: right;\n",
              "    }\n",
              "</style>\n",
              "<table border=\"1\" class=\"dataframe\">\n",
              "  <thead>\n",
              "    <tr style=\"text-align: right;\">\n",
              "      <th></th>\n",
              "      <th>Age</th>\n",
              "      <th>Cabin</th>\n",
              "      <th>Embarked</th>\n",
              "      <th>Fare</th>\n",
              "      <th>Name</th>\n",
              "      <th>Parch</th>\n",
              "      <th>PassengerId</th>\n",
              "      <th>Pclass</th>\n",
              "      <th>Sex</th>\n",
              "      <th>SibSp</th>\n",
              "      <th>Survived</th>\n",
              "      <th>Ticket</th>\n",
              "    </tr>\n",
              "  </thead>\n",
              "  <tbody>\n",
              "  </tbody>\n",
              "</table>\n",
              "</div>"
            ],
            "text/plain": [
              "Empty DataFrame\n",
              "Columns: [Age, Cabin, Embarked, Fare, Name, Parch, PassengerId, Pclass, Sex, SibSp, Survived, Ticket]\n",
              "Index: []"
            ]
          },
          "metadata": {},
          "execution_count": 104
        }
      ],
      "metadata": {
        "colab": {
          "base_uri": "https://localhost:8080/",
          "height": 49
        },
        "id": "BDL6ne1lBukH",
        "outputId": "dc2c99c6-57f5-4cdf-8dad-abd4b1d57e00"
      }
    },
    {
      "cell_type": "markdown",
      "source": [
        "Tomar los demás casos de personas de clase alta y remplazar la tarifa faltante con la mediana de este grupo."
      ],
      "metadata": {
        "id": "UFDALVVnB_7h"
      }
    },
    {
      "cell_type": "markdown",
      "source": [
        "Loc cases que son similares al de Mr. Thomas. Usar la mediana para remplazar los datos perdidos de este dataset."
      ],
      "metadata": {
        "id": "1tNWA7IjDRh-"
      }
    },
    {
      "cell_type": "code",
      "execution_count": 105,
      "source": [
        "mr_thomas = df_all.loc[(df_all['Pclass'] == 3) & (df_all['SibSp'] == 0) & (df_all['Embarked'] == 'S')]['Fare'].median()\n",
        "print(mr_thomas)\n",
        "df_all.loc[df_all['Fare'].isnull(), 'Fare'] = mr_thomas"
      ],
      "outputs": [
        {
          "output_type": "stream",
          "name": "stdout",
          "text": [
            "7.925\n"
          ]
        }
      ],
      "metadata": {
        "colab": {
          "base_uri": "https://localhost:8080/"
        },
        "id": "WGUrMpkUCQmB",
        "outputId": "e0795775-3289-4483-c947-2c4dc338b711"
      }
    },
    {
      "cell_type": "markdown",
      "source": [
        "### Cabina"
      ],
      "metadata": {
        "id": "t8tcUMA_DqRM"
      }
    },
    {
      "cell_type": "code",
      "execution_count": 106,
      "source": [
        "display(train_data['Cabin'].unique())\n",
        "print(\"There are \" + str(train_data['Cabin'].nunique()) + \" different values for Cabine and \" + str(train_data['Cabin'].isnull().sum()) + \" cases are missing.\")"
      ],
      "outputs": [
        {
          "output_type": "display_data",
          "data": {
            "text/plain": [
              "array([nan, 'C85', 'C123', 'E46', 'G6', 'C103', 'D56', 'A6',\n",
              "       'C23 C25 C27', 'B78', 'D33', 'B30', 'C52', 'B28', 'C83', 'F33',\n",
              "       'F G73', 'E31', 'A5', 'D10 D12', 'D26', 'C110', 'B58 B60', 'E101',\n",
              "       'F E69', 'D47', 'B86', 'F2', 'C2', 'E33', 'B19', 'A7', 'C49', 'F4',\n",
              "       'A32', 'B4', 'B80', 'A31', 'D36', 'D15', 'C93', 'C78', 'D35',\n",
              "       'C87', 'B77', 'E67', 'B94', 'C125', 'C99', 'C118', 'D7', 'A19',\n",
              "       'B49', 'D', 'C22 C26', 'C106', 'C65', 'E36', 'C54',\n",
              "       'B57 B59 B63 B66', 'C7', 'E34', 'C32', 'B18', 'C124', 'C91', 'E40',\n",
              "       'T', 'C128', 'D37', 'B35', 'E50', 'C82', 'B96 B98', 'E10', 'E44',\n",
              "       'A34', 'C104', 'C111', 'C92', 'E38', 'D21', 'E12', 'E63', 'A14',\n",
              "       'B37', 'C30', 'D20', 'B79', 'E25', 'D46', 'B73', 'C95', 'B38',\n",
              "       'B39', 'B22', 'C86', 'C70', 'A16', 'C101', 'C68', 'A10', 'E68',\n",
              "       'B41', 'A20', 'D19', 'D50', 'D9', 'A23', 'B50', 'A26', 'D48',\n",
              "       'E58', 'C126', 'B71', 'B51 B53 B55', 'D49', 'B5', 'B20', 'F G63',\n",
              "       'C62 C64', 'E24', 'C90', 'C45', 'E8', 'B101', 'D45', 'C46', 'D30',\n",
              "       'E121', 'D11', 'E77', 'F38', 'B3', 'D6', 'B82 B84', 'D17', 'A36',\n",
              "       'B102', 'B69', 'E49', 'C47', 'D28', 'E17', 'A24', 'C50', 'B42',\n",
              "       'C148'], dtype=object)"
            ]
          },
          "metadata": {}
        },
        {
          "output_type": "stream",
          "name": "stdout",
          "text": [
            "There are 147 different values for Cabine and 687 cases are missing.\n"
          ]
        }
      ],
      "metadata": {
        "colab": {
          "base_uri": "https://localhost:8080/",
          "height": 336
        },
        "id": "2rR6r0ZLDvoW",
        "outputId": "2d0a921d-5f08-45a4-ddaa-89bca25b1d37"
      }
    },
    {
      "cell_type": "markdown",
      "source": [
        "Guardar todas las letras de la Cabina en una nueva variable y usar \"M\" por el que falta."
      ],
      "metadata": {
        "id": "X0TjauYhEr0a"
      }
    },
    {
      "cell_type": "code",
      "execution_count": 107,
      "source": [
        "df_all['Deck'] = df_all['Cabin'].apply(lambda s: s[0] if pd.notnull(s) else 'M')\n"
      ],
      "outputs": [],
      "metadata": {
        "id": "pOGdOjNMGAht"
      }
    },
    {
      "cell_type": "code",
      "execution_count": 108,
      "source": [
        "df_all[['Deck', 'Survived']].groupby('Deck')['Survived'].mean().plot(kind='bar', figsize=(15,7))\n",
        "pl.suptitle('Survival rates for different cabines')\n"
      ],
      "outputs": [
        {
          "output_type": "execute_result",
          "data": {
            "text/plain": [
              "Text(0.5, 0.98, 'Survival rates for different cabines')"
            ]
          },
          "metadata": {},
          "execution_count": 108
        },
        {
          "output_type": "display_data",
          "data": {
            "image/png": "[encoded data removed]",
            "text/plain": [
              "<Figure size 1080x504 with 1 Axes>"
            ]
          },
          "metadata": {
            "needs_background": "light"
          }
        }
      ],
      "metadata": {
        "colab": {
          "base_uri": "https://localhost:8080/",
          "height": 508
        },
        "id": "-2aM8afuFdEs",
        "outputId": "ce99d031-d637-4068-91d3-5883560c5087"
      }
    },
    {
      "cell_type": "markdown",
      "source": [
        "Se observan diferencias grandes en las tazas de supervivencia porque los huespedes en las cabianas superiores llegaron más rápido a los botes."
      ],
      "metadata": {
        "id": "1YoC4niJJGAR"
      }
    },
    {
      "cell_type": "markdown",
      "source": [
        "Agrupar algunos datos."
      ],
      "metadata": {
        "id": "qVVlCjaQJSQN"
      }
    },
    {
      "cell_type": "code",
      "execution_count": 109,
      "source": [
        "idx = df_all[df_all['Deck'] == 'T'].index\n",
        "df_all.loc[idx,'Deck'] = 'A'\n",
        "df_all['Deck'] = df_all['Deck'].replace(['A', 'B', 'C'], 'ABC')\n",
        "df_all['Deck'] = df_all['Deck'].replace(['D', 'E'], 'DE')\n",
        "df_all['Deck'] = df_all['Deck'].replace(['F', 'G'], 'FG')\n",
        "\n",
        "df_all['Deck'].value_counts()"
      ],
      "outputs": [
        {
          "output_type": "execute_result",
          "data": {
            "text/plain": [
              "M      687\n",
              "ABC    122\n",
              "DE      65\n",
              "FG      17\n",
              "Name: Deck, dtype: int64"
            ]
          },
          "metadata": {},
          "execution_count": 109
        }
      ],
      "metadata": {
        "colab": {
          "base_uri": "https://localhost:8080/"
        },
        "id": "zlNm6LU7JXAw",
        "outputId": "cca35e4e-44cc-477d-d9f5-c4401670a96b"
      }
    },
    {
      "cell_type": "markdown",
      "source": [
        "### Embarcados"
      ],
      "metadata": {
        "id": "h0eBq4I9LXAl"
      }
    },
    {
      "cell_type": "code",
      "execution_count": 110,
      "source": [
        "df_all.loc[df_all['Embarked'].isnull()]"
      ],
      "outputs": [
        {
          "output_type": "execute_result",
          "data": {
            "text/html": [
              "<div>\n",
              "<style scoped>\n",
              "    .dataframe tbody tr th:only-of-type {\n",
              "        vertical-align: middle;\n",
              "    }\n",
              "\n",
              "    .dataframe tbody tr th {\n",
              "        vertical-align: top;\n",
              "    }\n",
              "\n",
              "    .dataframe thead th {\n",
              "        text-align: right;\n",
              "    }\n",
              "</style>\n",
              "<table border=\"1\" class=\"dataframe\">\n",
              "  <thead>\n",
              "    <tr style=\"text-align: right;\">\n",
              "      <th></th>\n",
              "      <th>Age</th>\n",
              "      <th>Cabin</th>\n",
              "      <th>Embarked</th>\n",
              "      <th>Fare</th>\n",
              "      <th>Name</th>\n",
              "      <th>Parch</th>\n",
              "      <th>PassengerId</th>\n",
              "      <th>Pclass</th>\n",
              "      <th>Sex</th>\n",
              "      <th>SibSp</th>\n",
              "      <th>Survived</th>\n",
              "      <th>Ticket</th>\n",
              "      <th>Deck</th>\n",
              "    </tr>\n",
              "  </thead>\n",
              "  <tbody>\n",
              "    <tr>\n",
              "      <th>61</th>\n",
              "      <td>38.0</td>\n",
              "      <td>B28</td>\n",
              "      <td>NaN</td>\n",
              "      <td>80.0</td>\n",
              "      <td>Icard, Miss. Amelie</td>\n",
              "      <td>0</td>\n",
              "      <td>62</td>\n",
              "      <td>1</td>\n",
              "      <td>female</td>\n",
              "      <td>0</td>\n",
              "      <td>1.0</td>\n",
              "      <td>113572</td>\n",
              "      <td>ABC</td>\n",
              "    </tr>\n",
              "    <tr>\n",
              "      <th>829</th>\n",
              "      <td>62.0</td>\n",
              "      <td>B28</td>\n",
              "      <td>NaN</td>\n",
              "      <td>80.0</td>\n",
              "      <td>Stone, Mrs. George Nelson (Martha Evelyn)</td>\n",
              "      <td>0</td>\n",
              "      <td>830</td>\n",
              "      <td>1</td>\n",
              "      <td>female</td>\n",
              "      <td>0</td>\n",
              "      <td>1.0</td>\n",
              "      <td>113572</td>\n",
              "      <td>ABC</td>\n",
              "    </tr>\n",
              "  </tbody>\n",
              "</table>\n",
              "</div>"
            ],
            "text/plain": [
              "      Age Cabin Embarked  Fare  ... SibSp  Survived  Ticket  Deck\n",
              "61   38.0   B28      NaN  80.0  ...     0       1.0  113572   ABC\n",
              "829  62.0   B28      NaN  80.0  ...     0       1.0  113572   ABC\n",
              "\n",
              "[2 rows x 13 columns]"
            ]
          },
          "metadata": {},
          "execution_count": 110
        }
      ],
      "metadata": {
        "colab": {
          "base_uri": "https://localhost:8080/",
          "height": 110
        },
        "id": "D43GwLVOKu2S",
        "outputId": "d59a555a-ac7d-46a4-d495-9b56faac1286"
      }
    },
    {
      "cell_type": "code",
      "execution_count": 111,
      "source": [
        "df_all.loc[(df_all['Pclass'] == 1) & (df_all['Fare'] <= 80) & (df_all['Deck'] == 'ABC')]['Embarked'].value_counts()"
      ],
      "outputs": [
        {
          "output_type": "execute_result",
          "data": {
            "text/plain": [
              "S    38\n",
              "C    26\n",
              "Name: Embarked, dtype: int64"
            ]
          },
          "metadata": {},
          "execution_count": 111
        }
      ],
      "metadata": {
        "colab": {
          "base_uri": "https://localhost:8080/"
        },
        "id": "Fg-RwHE5LZM6",
        "outputId": "1e60f348-00db-4768-839d-8820e815e5f4"
      }
    },
    {
      "cell_type": "markdown",
      "source": [
        "Buscar tarifas similares y adjuntar por tarifas similares la clase en la que fueron hospedados."
      ],
      "metadata": {
        "id": "FKeGuslnMwib"
      }
    },
    {
      "cell_type": "code",
      "execution_count": 112,
      "source": [
        "df_all.loc[df_all['Embarked'].isnull(), 'Embarked'] = 'S'"
      ],
      "outputs": [],
      "metadata": {
        "id": "cRNOT5_5M56A"
      }
    },
    {
      "cell_type": "markdown",
      "source": [
        "### Comprobación"
      ],
      "metadata": {
        "id": "bpY9rl5CNo33"
      }
    },
    {
      "cell_type": "markdown",
      "source": [
        "Hemos completado todos los valores que faltan en nuestro conjunto de datos. Usamos métodos estadísticos para la edad y la tarifa, creamos una nueva categoría para la cabina e hicimos algunas investigaciones para los desaparecidos en embarcados. Revisemos dos veces si todo está bien ahora."
      ],
      "metadata": {
        "id": "iBc9kUFaNhoe"
      }
    },
    {
      "cell_type": "code",
      "execution_count": 113,
      "source": [
        "print(\"Missing in the data:\")\n",
        "display(df_all.isnull().sum)"
      ],
      "outputs": [
        {
          "output_type": "stream",
          "name": "stdout",
          "text": [
            "Missing in the data:\n"
          ]
        },
        {
          "output_type": "display_data",
          "data": {
            "text/plain": [
              "<bound method DataFrame.sum of        Age  Cabin  Embarked   Fare  ...  SibSp  Survived  Ticket   Deck\n",
              "0    False   True     False  False  ...  False     False   False  False\n",
              "1    False  False     False  False  ...  False     False   False  False\n",
              "2    False   True     False  False  ...  False     False   False  False\n",
              "3    False  False     False  False  ...  False     False   False  False\n",
              "4    False   True     False  False  ...  False     False   False  False\n",
              "..     ...    ...       ...    ...  ...    ...       ...     ...    ...\n",
              "886  False   True     False  False  ...  False     False   False  False\n",
              "887  False  False     False  False  ...  False     False   False  False\n",
              "888  False   True     False  False  ...  False     False   False  False\n",
              "889  False  False     False  False  ...  False     False   False  False\n",
              "890  False   True     False  False  ...  False     False   False  False\n",
              "\n",
              "[891 rows x 13 columns]>"
            ]
          },
          "metadata": {}
        }
      ],
      "metadata": {
        "colab": {
          "base_uri": "https://localhost:8080/",
          "height": 269
        },
        "id": "Lyea78JZNMAO",
        "outputId": "7f173ef5-d221-4741-c527-3aa8462fcbfd"
      }
    },
    {
      "cell_type": "markdown",
      "source": [
        "## Creación de funciones\n",
        "\n",
        "\n",
        "---\n",
        "Usar el conjunto de datos para probar con diferentes metodos y mejorar el porcenataje de predicción.\n",
        "\n",
        "Tecnicas implentadas:\n",
        "\n",
        "\n",
        "* Agrupación de variables continuas (edad)\n",
        "* Crear nuevas funciones a partir de las variables existentes (titulos)\n",
        "* Codificar etiquetas de característica númerica (sexo)\n",
        "* Codificación para características categóricas (Pclass)\n",
        "\n",
        "\n"
      ],
      "metadata": {
        "id": "u5cOkadcOl0p"
      }
    },
    {
      "cell_type": "markdown",
      "source": [
        "### Binning"
      ],
      "metadata": {
        "id": "OFZ7feAYPdJc"
      }
    },
    {
      "cell_type": "code",
      "execution_count": 114,
      "source": [
        "df_all.boxplot(column=['Fare'], figsize=(15,7))"
      ],
      "outputs": [
        {
          "output_type": "execute_result",
          "data": {
            "text/plain": [
              "<matplotlib.axes._subplots.AxesSubplot at 0x7f49d4a54390>"
            ]
          },
          "metadata": {},
          "execution_count": 114
        },
        {
          "output_type": "display_data",
          "data": {
            "image/png": "[encoded data removed]",
            "text/plain": [
              "<Figure size 1080x504 with 1 Axes>"
            ]
          },
          "metadata": {
            "needs_background": "light"
          }
        }
      ],
      "metadata": {
        "colab": {
          "base_uri": "https://localhost:8080/",
          "height": 445
        },
        "id": "QMYtSENFPf8y",
        "outputId": "a8033576-af81-449e-db24-e5f0a3953547"
      }
    },
    {
      "cell_type": "code",
      "execution_count": 115,
      "source": [
        "df_all.boxplot(column=['Age'], figsize=(15,7))"
      ],
      "outputs": [
        {
          "output_type": "execute_result",
          "data": {
            "text/plain": [
              "<matplotlib.axes._subplots.AxesSubplot at 0x7f49d41ac150>"
            ]
          },
          "metadata": {},
          "execution_count": 115
        },
        {
          "output_type": "display_data",
          "data": {
            "image/png": "[encoded data removed]",
            "text/plain": [
              "<Figure size 1080x504 with 1 Axes>"
            ]
          },
          "metadata": {
            "needs_background": "light"
          }
        }
      ],
      "metadata": {
        "colab": {
          "base_uri": "https://localhost:8080/",
          "height": 445
        },
        "id": "BXRpxpI0PtkS",
        "outputId": "1d13ef6d-95c8-44e4-bb71-39f89f2082f6"
      }
    },
    {
      "cell_type": "markdown",
      "source": [
        "Como puede ver, existen valores atípicos tanto para la edad como para la tarifa. El rango de valores es mucho mayor para la tarifa en comparación con la edad. Cortaremos la distribución en pedazos para que los valores atípicos no irriten nuestro algoritmo. Para la tarifa asignaremos el mismo número de casos a cada categoría y para la edad construiremos las categorías en función de los valores de la variable. Esta es también la diferencia entre cut y qcut. Con cut, los bins se forman en función de los valores de la variable, independientemente de cuántos casos caigan en una categoría. Con qcut descomponemos una distribución para que haya el mismo número de casos en cada categoría."
      ],
      "metadata": {
        "id": "iubt-y7SRLrZ"
      }
    },
    {
      "cell_type": "code",
      "execution_count": 116,
      "source": [
        "df_all['Fare'] = pd.qcut(df_all['Fare'], 5)\n",
        "df_all['Age'] = pd.cut(df_all['Age'].astype(int), 5)"
      ],
      "outputs": [],
      "metadata": {
        "id": "rgaDRnJsQUgs"
      }
    },
    {
      "cell_type": "code",
      "execution_count": 117,
      "source": [
        "print(\"For age, each category has different number of cases:\")\n",
        "df_all['Age'].value_counts()"
      ],
      "outputs": [
        {
          "output_type": "stream",
          "name": "stdout",
          "text": [
            "For age, each category has different number of cases:\n"
          ]
        },
        {
          "output_type": "execute_result",
          "data": {
            "text/plain": [
              "(16.0, 32.0]     495\n",
              "(32.0, 48.0]     216\n",
              "(-0.08, 16.0]    100\n",
              "(48.0, 64.0]      69\n",
              "(64.0, 80.0]      11\n",
              "Name: Age, dtype: int64"
            ]
          },
          "metadata": {},
          "execution_count": 117
        }
      ],
      "metadata": {
        "colab": {
          "base_uri": "https://localhost:8080/"
        },
        "id": "rDnYXZ-8Qm09",
        "outputId": "da717c0d-61e0-4777-ff37-33395f53ef29"
      }
    },
    {
      "cell_type": "code",
      "execution_count": 118,
      "source": [
        "print(\"For fare, each category has nearly a same number of cases:\")\n",
        "df_all['Fare'].value_counts()"
      ],
      "outputs": [
        {
          "output_type": "stream",
          "name": "stdout",
          "text": [
            "For fare, each category has nearly a same number of cases:\n"
          ]
        },
        {
          "output_type": "execute_result",
          "data": {
            "text/plain": [
              "(7.854, 10.5]        184\n",
              "(21.679, 39.688]     180\n",
              "(-0.001, 7.854]      179\n",
              "(39.688, 512.329]    176\n",
              "(10.5, 21.679]       172\n",
              "Name: Fare, dtype: int64"
            ]
          },
          "metadata": {},
          "execution_count": 118
        }
      ],
      "metadata": {
        "colab": {
          "base_uri": "https://localhost:8080/"
        },
        "id": "sjqfPnMXQ4s-",
        "outputId": "dcf65f8e-fa69-4cb0-fe71-6a47658ba91e"
      }
    },
    {
      "cell_type": "markdown",
      "source": [
        "En promedio, los pasajeros más jóvenes tienen una mayor probabilidad de supervivencia, al igual que las personas con boletos de precio más altos. "
      ],
      "metadata": {
        "id": "i_I12lJOTm9U"
      }
    },
    {
      "cell_type": "code",
      "execution_count": 119,
      "source": [
        "df_all[['Age', 'Survived']].groupby('Age')['Survived'].mean()"
      ],
      "outputs": [
        {
          "output_type": "execute_result",
          "data": {
            "text/plain": [
              "Age\n",
              "(-0.08, 16.0]    0.550000\n",
              "(16.0, 32.0]     0.337374\n",
              "(32.0, 48.0]     0.412037\n",
              "(48.0, 64.0]     0.434783\n",
              "(64.0, 80.0]     0.090909\n",
              "Name: Survived, dtype: float64"
            ]
          },
          "metadata": {},
          "execution_count": 119
        }
      ],
      "metadata": {
        "colab": {
          "base_uri": "https://localhost:8080/"
        },
        "id": "MuAfn_NpThZV",
        "outputId": "e00472fc-950c-4a1f-c900-4ae36978c05a"
      }
    },
    {
      "cell_type": "code",
      "execution_count": 120,
      "source": [
        "df_all[['Fare', 'Survived']].groupby('Fare')['Survived'].mean()"
      ],
      "outputs": [
        {
          "output_type": "execute_result",
          "data": {
            "text/plain": [
              "Fare\n",
              "(-0.001, 7.854]      0.217877\n",
              "(7.854, 10.5]        0.201087\n",
              "(10.5, 21.679]       0.424419\n",
              "(21.679, 39.688]     0.444444\n",
              "(39.688, 512.329]    0.642045\n",
              "Name: Survived, dtype: float64"
            ]
          },
          "metadata": {},
          "execution_count": 120
        }
      ],
      "metadata": {
        "colab": {
          "base_uri": "https://localhost:8080/"
        },
        "id": "7eyaKjJdT45w",
        "outputId": "3f909a26-eb2e-47df-96a5-82c235b31ddc"
      }
    },
    {
      "cell_type": "code",
      "execution_count": 122,
      "source": [
        "df_all[['Age', 'Survived']].groupby('Age')['Survived'].mean().plot(kind='bar', figsize=(15,7))\n",
        "pl.suptitle('Survval rates for age categories')"
      ],
      "outputs": [
        {
          "output_type": "execute_result",
          "data": {
            "text/plain": [
              "Text(0.5, 0.98, 'Survval rates for age categories')"
            ]
          },
          "metadata": {},
          "execution_count": 122
        },
        {
          "output_type": "display_data",
          "data": {
            "image/png": "[encoded data removed]",
            "text/plain": [
              "<Figure size 1080x504 with 1 Axes>"
            ]
          },
          "metadata": {
            "needs_background": "light"
          }
        }
      ],
      "metadata": {
        "colab": {
          "base_uri": "https://localhost:8080/",
          "height": 562
        },
        "id": "TeNuXXQvUG1N",
        "outputId": "cb7f6228-f3b8-4409-abe6-32d11557e3c4"
      }
    },
    {
      "cell_type": "code",
      "execution_count": 124,
      "source": [
        "df_all[['Fare', 'Survived']].groupby('Fare')['Survived'].mean().plot(kind='bar', figsize=(15,7))\n",
        "pl.suptitle('Survival rates for fare categories')"
      ],
      "outputs": [
        {
          "output_type": "execute_result",
          "data": {
            "text/plain": [
              "Text(0.5, 0.98, 'Survival rates for fare categories')"
            ]
          },
          "metadata": {},
          "execution_count": 124
        },
        {
          "output_type": "display_data",
          "data": {
            "image/png": "[encoded data removed]",
            "text/plain": [
              "<Figure size 1080x504 with 1 Axes>"
            ]
          },
          "metadata": {
            "needs_background": "light"
          }
        }
      ],
      "metadata": {
        "colab": {
          "base_uri": "https://localhost:8080/",
          "height": 590
        },
        "id": "9vpmb2GwUtyn",
        "outputId": "8c572242-6ec9-46c7-b77c-7cbb8a0e84d3"
      }
    },
    {
      "cell_type": "markdown",
      "source": [
        "### Crear nuevas funciones a partir de variables existentes"
      ],
      "metadata": {
        "id": "4_ye_pOUVYs7"
      }
    },
    {
      "cell_type": "markdown",
      "source": [
        "### Tamaño de familia\n",
        "\n",
        "---\n",
        "**SibSp** define cuántos hermanos y cónyuges tenía un pasajero y analiza cuántos padres e hijos. Podemos resumir estas variables y agregar 1 (por cada transeúnte) para obtener el tamaño de la familia. \n"
      ],
      "metadata": {
        "id": "L-0xLPlJVf8W"
      }
    },
    {
      "cell_type": "code",
      "execution_count": 126,
      "source": [
        "df_all['Family_Size'] = df_all['SibSp'] + df_all['Parch'] + 1\n",
        "\n",
        "df_all['Family_Size'].hist(figsize=(15,7))"
      ],
      "outputs": [
        {
          "output_type": "execute_result",
          "data": {
            "text/plain": [
              "<matplotlib.axes._subplots.AxesSubplot at 0x7f49d3df0b90>"
            ]
          },
          "metadata": {},
          "execution_count": 126
        },
        {
          "output_type": "display_data",
          "data": {
            "image/png": "[encoded data removed]",
            "text/plain": [
              "<Figure size 1080x504 with 1 Axes>"
            ]
          },
          "metadata": {
            "needs_background": "light"
          }
        }
      ],
      "metadata": {
        "colab": {
          "base_uri": "https://localhost:8080/",
          "height": 445
        },
        "id": "hbiEE-FSVtUC",
        "outputId": "8a1b4f19-ac5f-4ca7-9533-09cc05bf4def"
      }
    },
    {
      "cell_type": "code",
      "execution_count": 127,
      "source": [
        "df_all['Family_Size_bin'] = df_all['Family_Size'].map(lambda s: 1 if s == 1 else (2 if s == 2 else (3 if 3 <= s <= 4 else (4 if s >= 5 else 0)))) "
      ],
      "outputs": [],
      "metadata": {
        "id": "0QPJ0-5PWGUA"
      }
    },
    {
      "cell_type": "code",
      "execution_count": 128,
      "source": [
        "df_all['Family_Size_bin'].value_counts()"
      ],
      "outputs": [
        {
          "output_type": "execute_result",
          "data": {
            "text/plain": [
              "1    537\n",
              "2    161\n",
              "3    131\n",
              "4     62\n",
              "Name: Family_Size_bin, dtype: int64"
            ]
          },
          "metadata": {},
          "execution_count": 128
        }
      ],
      "metadata": {
        "colab": {
          "base_uri": "https://localhost:8080/"
        },
        "id": "kA6yxTU9WpIP",
        "outputId": "84b9681b-d0d2-48c6-ae77-9c83ec20fd9d"
      }
    },
    {
      "cell_type": "markdown",
      "source": [
        "Probablemente las familias que no son tan numerosas tuvieron más probabiliad de sobrevivir."
      ],
      "metadata": {
        "id": "6kQljEPyW2jh"
      }
    },
    {
      "cell_type": "code",
      "execution_count": 129,
      "source": [
        "df_all[['Family_Size_bin', 'Survived']].groupby('Family_Size_bin')['Survived'].mean().plot(kind='bar', figsize=(15,7))\n",
        "pl.suptitle('Survival rates for family size categories')"
      ],
      "outputs": [
        {
          "output_type": "execute_result",
          "data": {
            "text/plain": [
              "Text(0.5, 0.98, 'Survival rates for family size categories')"
            ]
          },
          "metadata": {},
          "execution_count": 129
        },
        {
          "output_type": "display_data",
          "data": {
            "image/png": "[encoded data removed]",
            "text/plain": [
              "<Figure size 1080x504 with 1 Axes>"
            ]
          },
          "metadata": {
            "needs_background": "light"
          }
        }
      ],
      "metadata": {
        "colab": {
          "base_uri": "https://localhost:8080/",
          "height": 507
        },
        "id": "-y0PTz3vW-jh",
        "outputId": "abe60bd0-7af3-4605-e27a-89061da0e062"
      }
    },
    {
      "cell_type": "markdown",
      "source": [
        "### Titulo"
      ],
      "metadata": {
        "id": "YI_-aBeGa03N"
      }
    },
    {
      "cell_type": "code",
      "execution_count": null,
      "source": [
        "df_all['Title'] = df_all['Name'].str.split(', ', expand=True)[1].str.split('. ', expand=True)[0]"
      ],
      "outputs": [],
      "metadata": {
        "id": "Rz3NDKRla9_d"
      }
    },
    {
      "cell_type": "markdown",
      "source": [
        "### Label-and One"
      ],
      "metadata": {
        "id": "DtKa8S8yem-R"
      }
    },
    {
      "cell_type": "code",
      "execution_count": 153,
      "source": [
        "encoder = LabelEncoder()\n",
        "non_numeric_features = ['Embarked', 'Sex', 'Title', 'Age', 'Fare', 'Deck']\n",
        "\n",
        "for feature in non_numeric_features:\n",
        "  df_all[feature] = encoder.fit_transform(df_all[feature])\n",
        "\n",
        "  cat_features = ['Pclass', 'Sex', 'Embarked', 'Title', 'Deck', 'Family_Size_bin', 'Age', 'Fare']\n",
        "\n",
        "  encoded_features = []\n",
        "\n",
        "  for feature in cat_features:\n",
        "    encoded_feat = OneHotEncoder().fit_transform(df_all[feature].values.reshape(-1, 1)).toarray()\n",
        "    n = df_all[feature].nunique()\n",
        "    cols = ['{}_{}'.format(feature, n) for n in range (1, n + 1)]\n",
        "    encoded_df = pd.DataFrame(encoded_feat, columns=cols)\n",
        "    encoded_df.index = df_all.index\n",
        "    encoded_features.append(encoded_df)\n",
        "\n",
        "df_all = pd.concat([df_all, *encoded_features], axis=1)"
      ],
      "outputs": [
        {
          "output_type": "error",
          "ename": "TypeError",
          "evalue": "ignored",
          "traceback": [
            "\u001b[0;31m---------------------------------------------------------------------------\u001b[0m",
            "\u001b[0;31mTypeError\u001b[0m                                 Traceback (most recent call last)",
            "\u001b[0;32m/usr/local/lib/python3.7/dist-packages/sklearn/preprocessing/_label.py\u001b[0m in \u001b[0;36m_encode\u001b[0;34m(values, uniques, encode, check_unknown)\u001b[0m\n\u001b[1;32m    111\u001b[0m         \u001b[0;32mtry\u001b[0m\u001b[0;34m:\u001b[0m\u001b[0;34m\u001b[0m\u001b[0;34m\u001b[0m\u001b[0m\n\u001b[0;32m--> 112\u001b[0;31m             \u001b[0mres\u001b[0m \u001b[0;34m=\u001b[0m \u001b[0m_encode_python\u001b[0m\u001b[0;34m(\u001b[0m\u001b[0mvalues\u001b[0m\u001b[0;34m,\u001b[0m \u001b[0muniques\u001b[0m\u001b[0;34m,\u001b[0m \u001b[0mencode\u001b[0m\u001b[0;34m)\u001b[0m\u001b[0;34m\u001b[0m\u001b[0;34m\u001b[0m\u001b[0m\n\u001b[0m\u001b[1;32m    113\u001b[0m         \u001b[0;32mexcept\u001b[0m \u001b[0mTypeError\u001b[0m\u001b[0;34m:\u001b[0m\u001b[0;34m\u001b[0m\u001b[0;34m\u001b[0m\u001b[0m\n",
            "\u001b[0;32m/usr/local/lib/python3.7/dist-packages/sklearn/preprocessing/_label.py\u001b[0m in \u001b[0;36m_encode_python\u001b[0;34m(values, uniques, encode)\u001b[0m\n\u001b[1;32m     59\u001b[0m     \u001b[0;32mif\u001b[0m \u001b[0muniques\u001b[0m \u001b[0;32mis\u001b[0m \u001b[0;32mNone\u001b[0m\u001b[0;34m:\u001b[0m\u001b[0;34m\u001b[0m\u001b[0;34m\u001b[0m\u001b[0m\n\u001b[0;32m---> 60\u001b[0;31m         \u001b[0muniques\u001b[0m \u001b[0;34m=\u001b[0m \u001b[0msorted\u001b[0m\u001b[0;34m(\u001b[0m\u001b[0mset\u001b[0m\u001b[0;34m(\u001b[0m\u001b[0mvalues\u001b[0m\u001b[0;34m)\u001b[0m\u001b[0;34m)\u001b[0m\u001b[0;34m\u001b[0m\u001b[0;34m\u001b[0m\u001b[0m\n\u001b[0m\u001b[1;32m     61\u001b[0m         \u001b[0muniques\u001b[0m \u001b[0;34m=\u001b[0m \u001b[0mnp\u001b[0m\u001b[0;34m.\u001b[0m\u001b[0marray\u001b[0m\u001b[0;34m(\u001b[0m\u001b[0muniques\u001b[0m\u001b[0;34m,\u001b[0m \u001b[0mdtype\u001b[0m\u001b[0;34m=\u001b[0m\u001b[0mvalues\u001b[0m\u001b[0;34m.\u001b[0m\u001b[0mdtype\u001b[0m\u001b[0;34m)\u001b[0m\u001b[0;34m\u001b[0m\u001b[0;34m\u001b[0m\u001b[0m\n",
            "\u001b[0;31mTypeError\u001b[0m: '<' not supported between instances of 'str' and 'float'",
            "\nDuring handling of the above exception, another exception occurred:\n",
            "\u001b[0;31mTypeError\u001b[0m                                 Traceback (most recent call last)",
            "\u001b[0;32m<ipython-input-153-c4c95677698f>\u001b[0m in \u001b[0;36m<module>\u001b[0;34m()\u001b[0m\n\u001b[1;32m      3\u001b[0m \u001b[0;34m\u001b[0m\u001b[0m\n\u001b[1;32m      4\u001b[0m \u001b[0;32mfor\u001b[0m \u001b[0mfeature\u001b[0m \u001b[0;32min\u001b[0m \u001b[0mnon_numeric_features\u001b[0m\u001b[0;34m:\u001b[0m\u001b[0;34m\u001b[0m\u001b[0;34m\u001b[0m\u001b[0m\n\u001b[0;32m----> 5\u001b[0;31m   \u001b[0mdf_all\u001b[0m\u001b[0;34m[\u001b[0m\u001b[0mfeature\u001b[0m\u001b[0;34m]\u001b[0m \u001b[0;34m=\u001b[0m \u001b[0mencoder\u001b[0m\u001b[0;34m.\u001b[0m\u001b[0mfit_transform\u001b[0m\u001b[0;34m(\u001b[0m\u001b[0mdf_all\u001b[0m\u001b[0;34m[\u001b[0m\u001b[0mfeature\u001b[0m\u001b[0;34m]\u001b[0m\u001b[0;34m)\u001b[0m\u001b[0;34m\u001b[0m\u001b[0;34m\u001b[0m\u001b[0m\n\u001b[0m\u001b[1;32m      6\u001b[0m \u001b[0;34m\u001b[0m\u001b[0m\n\u001b[1;32m      7\u001b[0m   \u001b[0mcat_features\u001b[0m \u001b[0;34m=\u001b[0m \u001b[0;34m[\u001b[0m\u001b[0;34m'Pclass'\u001b[0m\u001b[0;34m,\u001b[0m \u001b[0;34m'Sex'\u001b[0m\u001b[0;34m,\u001b[0m \u001b[0;34m'Embarked'\u001b[0m\u001b[0;34m,\u001b[0m \u001b[0;34m'Title'\u001b[0m\u001b[0;34m,\u001b[0m \u001b[0;34m'Deck'\u001b[0m\u001b[0;34m,\u001b[0m \u001b[0;34m'Family_Size_bin'\u001b[0m\u001b[0;34m,\u001b[0m \u001b[0;34m'Age'\u001b[0m\u001b[0;34m,\u001b[0m \u001b[0;34m'Fare'\u001b[0m\u001b[0;34m]\u001b[0m\u001b[0;34m\u001b[0m\u001b[0;34m\u001b[0m\u001b[0m\n",
            "\u001b[0;32m/usr/local/lib/python3.7/dist-packages/sklearn/preprocessing/_label.py\u001b[0m in \u001b[0;36mfit_transform\u001b[0;34m(self, y)\u001b[0m\n\u001b[1;32m    250\u001b[0m         \"\"\"\n\u001b[1;32m    251\u001b[0m         \u001b[0my\u001b[0m \u001b[0;34m=\u001b[0m \u001b[0mcolumn_or_1d\u001b[0m\u001b[0;34m(\u001b[0m\u001b[0my\u001b[0m\u001b[0;34m,\u001b[0m \u001b[0mwarn\u001b[0m\u001b[0;34m=\u001b[0m\u001b[0;32mTrue\u001b[0m\u001b[0;34m)\u001b[0m\u001b[0;34m\u001b[0m\u001b[0;34m\u001b[0m\u001b[0m\n\u001b[0;32m--> 252\u001b[0;31m         \u001b[0mself\u001b[0m\u001b[0;34m.\u001b[0m\u001b[0mclasses_\u001b[0m\u001b[0;34m,\u001b[0m \u001b[0my\u001b[0m \u001b[0;34m=\u001b[0m \u001b[0m_encode\u001b[0m\u001b[0;34m(\u001b[0m\u001b[0my\u001b[0m\u001b[0;34m,\u001b[0m \u001b[0mencode\u001b[0m\u001b[0;34m=\u001b[0m\u001b[0;32mTrue\u001b[0m\u001b[0;34m)\u001b[0m\u001b[0;34m\u001b[0m\u001b[0;34m\u001b[0m\u001b[0m\n\u001b[0m\u001b[1;32m    253\u001b[0m         \u001b[0;32mreturn\u001b[0m \u001b[0my\u001b[0m\u001b[0;34m\u001b[0m\u001b[0;34m\u001b[0m\u001b[0m\n\u001b[1;32m    254\u001b[0m \u001b[0;34m\u001b[0m\u001b[0m\n",
            "\u001b[0;32m/usr/local/lib/python3.7/dist-packages/sklearn/preprocessing/_label.py\u001b[0m in \u001b[0;36m_encode\u001b[0;34m(values, uniques, encode, check_unknown)\u001b[0m\n\u001b[1;32m    112\u001b[0m             \u001b[0mres\u001b[0m \u001b[0;34m=\u001b[0m \u001b[0m_encode_python\u001b[0m\u001b[0;34m(\u001b[0m\u001b[0mvalues\u001b[0m\u001b[0;34m,\u001b[0m \u001b[0muniques\u001b[0m\u001b[0;34m,\u001b[0m \u001b[0mencode\u001b[0m\u001b[0;34m)\u001b[0m\u001b[0;34m\u001b[0m\u001b[0;34m\u001b[0m\u001b[0m\n\u001b[1;32m    113\u001b[0m         \u001b[0;32mexcept\u001b[0m \u001b[0mTypeError\u001b[0m\u001b[0;34m:\u001b[0m\u001b[0;34m\u001b[0m\u001b[0;34m\u001b[0m\u001b[0m\n\u001b[0;32m--> 114\u001b[0;31m             \u001b[0;32mraise\u001b[0m \u001b[0mTypeError\u001b[0m\u001b[0;34m(\u001b[0m\u001b[0;34m\"argument must be a string or number\"\u001b[0m\u001b[0;34m)\u001b[0m\u001b[0;34m\u001b[0m\u001b[0;34m\u001b[0m\u001b[0m\n\u001b[0m\u001b[1;32m    115\u001b[0m         \u001b[0;32mreturn\u001b[0m \u001b[0mres\u001b[0m\u001b[0;34m\u001b[0m\u001b[0;34m\u001b[0m\u001b[0m\n\u001b[1;32m    116\u001b[0m     \u001b[0;32melse\u001b[0m\u001b[0;34m:\u001b[0m\u001b[0;34m\u001b[0m\u001b[0;34m\u001b[0m\u001b[0m\n",
            "\u001b[0;31mTypeError\u001b[0m: argument must be a string or number"
          ]
        }
      ],
      "metadata": {
        "colab": {
          "base_uri": "https://localhost:8080/",
          "height": 421
        },
        "id": "NTloKag4erFD",
        "outputId": "0668bb71-7d05-43d0-a5bf-d1d5aa136130"
      }
    },
    {
      "cell_type": "code",
      "execution_count": 164,
      "source": [
        "df_train, df_test = divide_df(df_all)"
      ],
      "outputs": [
        {
          "output_type": "error",
          "ename": "KeyError",
          "evalue": "ignored",
          "traceback": [
            "\u001b[0;31m---------------------------------------------------------------------------\u001b[0m",
            "\u001b[0;31mKeyError\u001b[0m                                  Traceback (most recent call last)",
            "\u001b[0;32m/usr/local/lib/python3.7/dist-packages/pandas/core/indexes/base.py\u001b[0m in \u001b[0;36mget_loc\u001b[0;34m(self, key, method, tolerance)\u001b[0m\n\u001b[1;32m   2897\u001b[0m             \u001b[0;32mtry\u001b[0m\u001b[0;34m:\u001b[0m\u001b[0;34m\u001b[0m\u001b[0;34m\u001b[0m\u001b[0m\n\u001b[0;32m-> 2898\u001b[0;31m                 \u001b[0;32mreturn\u001b[0m \u001b[0mself\u001b[0m\u001b[0;34m.\u001b[0m\u001b[0m_engine\u001b[0m\u001b[0;34m.\u001b[0m\u001b[0mget_loc\u001b[0m\u001b[0;34m(\u001b[0m\u001b[0mcasted_key\u001b[0m\u001b[0;34m)\u001b[0m\u001b[0;34m\u001b[0m\u001b[0;34m\u001b[0m\u001b[0m\n\u001b[0m\u001b[1;32m   2899\u001b[0m             \u001b[0;32mexcept\u001b[0m \u001b[0mKeyError\u001b[0m \u001b[0;32mas\u001b[0m \u001b[0merr\u001b[0m\u001b[0;34m:\u001b[0m\u001b[0;34m\u001b[0m\u001b[0;34m\u001b[0m\u001b[0m\n",
            "\u001b[0;32mpandas/_libs/index.pyx\u001b[0m in \u001b[0;36mpandas._libs.index.IndexEngine.get_loc\u001b[0;34m()\u001b[0m\n",
            "\u001b[0;32mpandas/_libs/index.pyx\u001b[0m in \u001b[0;36mpandas._libs.index.IndexEngine.get_loc\u001b[0;34m()\u001b[0m\n",
            "\u001b[0;32mpandas/_libs/index.pyx\u001b[0m in \u001b[0;36mpandas._libs.index.IndexEngine._get_loc_duplicates\u001b[0;34m()\u001b[0m\n",
            "\u001b[0;32mpandas/_libs/index_class_helper.pxi\u001b[0m in \u001b[0;36mpandas._libs.index.Int64Engine._maybe_get_bool_indexer\u001b[0;34m()\u001b[0m\n",
            "\u001b[0;32mpandas/_libs/index.pyx\u001b[0m in \u001b[0;36mpandas._libs.index.IndexEngine._unpack_bool_indexer\u001b[0;34m()\u001b[0m\n",
            "\u001b[0;31mKeyError\u001b[0m: 891",
            "\nThe above exception was the direct cause of the following exception:\n",
            "\u001b[0;31mKeyError\u001b[0m                                  Traceback (most recent call last)",
            "\u001b[0;32m<ipython-input-164-59ea0eedb0b2>\u001b[0m in \u001b[0;36m<module>\u001b[0;34m()\u001b[0m\n\u001b[0;32m----> 1\u001b[0;31m \u001b[0mdf_train\u001b[0m\u001b[0;34m,\u001b[0m \u001b[0mdf_test\u001b[0m \u001b[0;34m=\u001b[0m \u001b[0mdivide_df\u001b[0m\u001b[0;34m(\u001b[0m\u001b[0mdf_all\u001b[0m\u001b[0;34m)\u001b[0m\u001b[0;34m\u001b[0m\u001b[0;34m\u001b[0m\u001b[0m\n\u001b[0m",
            "\u001b[0;32m<ipython-input-94-6a9231c698b4>\u001b[0m in \u001b[0;36mdivide_df\u001b[0;34m(all_data)\u001b[0m\n\u001b[1;32m      3\u001b[0m \u001b[0;34m\u001b[0m\u001b[0m\n\u001b[1;32m      4\u001b[0m \u001b[0;32mdef\u001b[0m \u001b[0mdivide_df\u001b[0m\u001b[0;34m(\u001b[0m\u001b[0mall_data\u001b[0m\u001b[0;34m)\u001b[0m\u001b[0;34m:\u001b[0m\u001b[0;34m\u001b[0m\u001b[0;34m\u001b[0m\u001b[0m\n\u001b[0;32m----> 5\u001b[0;31m   \u001b[0;32mreturn\u001b[0m \u001b[0mall_data\u001b[0m\u001b[0;34m.\u001b[0m\u001b[0mloc\u001b[0m\u001b[0;34m[\u001b[0m\u001b[0;34m:\u001b[0m\u001b[0;36m890\u001b[0m\u001b[0;34m]\u001b[0m\u001b[0;34m,\u001b[0m \u001b[0mall_data\u001b[0m\u001b[0;34m.\u001b[0m\u001b[0mloc\u001b[0m\u001b[0;34m[\u001b[0m\u001b[0;36m891\u001b[0m\u001b[0;34m:\u001b[0m\u001b[0;34m]\u001b[0m\u001b[0;34m.\u001b[0m\u001b[0mdrop\u001b[0m\u001b[0;34m(\u001b[0m\u001b[0;34m[\u001b[0m\u001b[0;34m'Survived'\u001b[0m\u001b[0;34m]\u001b[0m\u001b[0;34m,\u001b[0m \u001b[0maxis\u001b[0m\u001b[0;34m=\u001b[0m\u001b[0;36m1\u001b[0m\u001b[0;34m)\u001b[0m\u001b[0;34m\u001b[0m\u001b[0;34m\u001b[0m\u001b[0m\n\u001b[0m",
            "\u001b[0;32m/usr/local/lib/python3.7/dist-packages/pandas/core/indexing.py\u001b[0m in \u001b[0;36m__getitem__\u001b[0;34m(self, key)\u001b[0m\n\u001b[1;32m    877\u001b[0m \u001b[0;34m\u001b[0m\u001b[0m\n\u001b[1;32m    878\u001b[0m             \u001b[0mmaybe_callable\u001b[0m \u001b[0;34m=\u001b[0m \u001b[0mcom\u001b[0m\u001b[0;34m.\u001b[0m\u001b[0mapply_if_callable\u001b[0m\u001b[0;34m(\u001b[0m\u001b[0mkey\u001b[0m\u001b[0;34m,\u001b[0m \u001b[0mself\u001b[0m\u001b[0;34m.\u001b[0m\u001b[0mobj\u001b[0m\u001b[0;34m)\u001b[0m\u001b[0;34m\u001b[0m\u001b[0;34m\u001b[0m\u001b[0m\n\u001b[0;32m--> 879\u001b[0;31m             \u001b[0;32mreturn\u001b[0m \u001b[0mself\u001b[0m\u001b[0;34m.\u001b[0m\u001b[0m_getitem_axis\u001b[0m\u001b[0;34m(\u001b[0m\u001b[0mmaybe_callable\u001b[0m\u001b[0;34m,\u001b[0m \u001b[0maxis\u001b[0m\u001b[0;34m=\u001b[0m\u001b[0maxis\u001b[0m\u001b[0;34m)\u001b[0m\u001b[0;34m\u001b[0m\u001b[0;34m\u001b[0m\u001b[0m\n\u001b[0m\u001b[1;32m    880\u001b[0m \u001b[0;34m\u001b[0m\u001b[0m\n\u001b[1;32m    881\u001b[0m     \u001b[0;32mdef\u001b[0m \u001b[0m_is_scalar_access\u001b[0m\u001b[0;34m(\u001b[0m\u001b[0mself\u001b[0m\u001b[0;34m,\u001b[0m \u001b[0mkey\u001b[0m\u001b[0;34m:\u001b[0m \u001b[0mTuple\u001b[0m\u001b[0;34m)\u001b[0m\u001b[0;34m:\u001b[0m\u001b[0;34m\u001b[0m\u001b[0;34m\u001b[0m\u001b[0m\n",
            "\u001b[0;32m/usr/local/lib/python3.7/dist-packages/pandas/core/indexing.py\u001b[0m in \u001b[0;36m_getitem_axis\u001b[0;34m(self, key, axis)\u001b[0m\n\u001b[1;32m   1086\u001b[0m         \u001b[0;32mif\u001b[0m \u001b[0misinstance\u001b[0m\u001b[0;34m(\u001b[0m\u001b[0mkey\u001b[0m\u001b[0;34m,\u001b[0m \u001b[0mslice\u001b[0m\u001b[0;34m)\u001b[0m\u001b[0;34m:\u001b[0m\u001b[0;34m\u001b[0m\u001b[0;34m\u001b[0m\u001b[0m\n\u001b[1;32m   1087\u001b[0m             \u001b[0mself\u001b[0m\u001b[0;34m.\u001b[0m\u001b[0m_validate_key\u001b[0m\u001b[0;34m(\u001b[0m\u001b[0mkey\u001b[0m\u001b[0;34m,\u001b[0m \u001b[0maxis\u001b[0m\u001b[0;34m)\u001b[0m\u001b[0;34m\u001b[0m\u001b[0;34m\u001b[0m\u001b[0m\n\u001b[0;32m-> 1088\u001b[0;31m             \u001b[0;32mreturn\u001b[0m \u001b[0mself\u001b[0m\u001b[0;34m.\u001b[0m\u001b[0m_get_slice_axis\u001b[0m\u001b[0;34m(\u001b[0m\u001b[0mkey\u001b[0m\u001b[0;34m,\u001b[0m \u001b[0maxis\u001b[0m\u001b[0;34m=\u001b[0m\u001b[0maxis\u001b[0m\u001b[0;34m)\u001b[0m\u001b[0;34m\u001b[0m\u001b[0;34m\u001b[0m\u001b[0m\n\u001b[0m\u001b[1;32m   1089\u001b[0m         \u001b[0;32melif\u001b[0m \u001b[0mcom\u001b[0m\u001b[0;34m.\u001b[0m\u001b[0mis_bool_indexer\u001b[0m\u001b[0;34m(\u001b[0m\u001b[0mkey\u001b[0m\u001b[0;34m)\u001b[0m\u001b[0;34m:\u001b[0m\u001b[0;34m\u001b[0m\u001b[0;34m\u001b[0m\u001b[0m\n\u001b[1;32m   1090\u001b[0m             \u001b[0;32mreturn\u001b[0m \u001b[0mself\u001b[0m\u001b[0;34m.\u001b[0m\u001b[0m_getbool_axis\u001b[0m\u001b[0;34m(\u001b[0m\u001b[0mkey\u001b[0m\u001b[0;34m,\u001b[0m \u001b[0maxis\u001b[0m\u001b[0;34m=\u001b[0m\u001b[0maxis\u001b[0m\u001b[0;34m)\u001b[0m\u001b[0;34m\u001b[0m\u001b[0;34m\u001b[0m\u001b[0m\n",
            "\u001b[0;32m/usr/local/lib/python3.7/dist-packages/pandas/core/indexing.py\u001b[0m in \u001b[0;36m_get_slice_axis\u001b[0;34m(self, slice_obj, axis)\u001b[0m\n\u001b[1;32m   1121\u001b[0m         \u001b[0mlabels\u001b[0m \u001b[0;34m=\u001b[0m \u001b[0mobj\u001b[0m\u001b[0;34m.\u001b[0m\u001b[0m_get_axis\u001b[0m\u001b[0;34m(\u001b[0m\u001b[0maxis\u001b[0m\u001b[0;34m)\u001b[0m\u001b[0;34m\u001b[0m\u001b[0;34m\u001b[0m\u001b[0m\n\u001b[1;32m   1122\u001b[0m         indexer = labels.slice_indexer(\n\u001b[0;32m-> 1123\u001b[0;31m             \u001b[0mslice_obj\u001b[0m\u001b[0;34m.\u001b[0m\u001b[0mstart\u001b[0m\u001b[0;34m,\u001b[0m \u001b[0mslice_obj\u001b[0m\u001b[0;34m.\u001b[0m\u001b[0mstop\u001b[0m\u001b[0;34m,\u001b[0m \u001b[0mslice_obj\u001b[0m\u001b[0;34m.\u001b[0m\u001b[0mstep\u001b[0m\u001b[0;34m,\u001b[0m \u001b[0mkind\u001b[0m\u001b[0;34m=\u001b[0m\u001b[0;34m\"loc\"\u001b[0m\u001b[0;34m\u001b[0m\u001b[0;34m\u001b[0m\u001b[0m\n\u001b[0m\u001b[1;32m   1124\u001b[0m         )\n\u001b[1;32m   1125\u001b[0m \u001b[0;34m\u001b[0m\u001b[0m\n",
            "\u001b[0;32m/usr/local/lib/python3.7/dist-packages/pandas/core/indexes/base.py\u001b[0m in \u001b[0;36mslice_indexer\u001b[0;34m(self, start, end, step, kind)\u001b[0m\n\u001b[1;32m   4967\u001b[0m         \u001b[0mslice\u001b[0m\u001b[0;34m(\u001b[0m\u001b[0;36m1\u001b[0m\u001b[0;34m,\u001b[0m \u001b[0;36m3\u001b[0m\u001b[0;34m,\u001b[0m \u001b[0;32mNone\u001b[0m\u001b[0;34m)\u001b[0m\u001b[0;34m\u001b[0m\u001b[0;34m\u001b[0m\u001b[0m\n\u001b[1;32m   4968\u001b[0m         \"\"\"\n\u001b[0;32m-> 4969\u001b[0;31m         \u001b[0mstart_slice\u001b[0m\u001b[0;34m,\u001b[0m \u001b[0mend_slice\u001b[0m \u001b[0;34m=\u001b[0m \u001b[0mself\u001b[0m\u001b[0;34m.\u001b[0m\u001b[0mslice_locs\u001b[0m\u001b[0;34m(\u001b[0m\u001b[0mstart\u001b[0m\u001b[0;34m,\u001b[0m \u001b[0mend\u001b[0m\u001b[0;34m,\u001b[0m \u001b[0mstep\u001b[0m\u001b[0;34m=\u001b[0m\u001b[0mstep\u001b[0m\u001b[0;34m,\u001b[0m \u001b[0mkind\u001b[0m\u001b[0;34m=\u001b[0m\u001b[0mkind\u001b[0m\u001b[0;34m)\u001b[0m\u001b[0;34m\u001b[0m\u001b[0;34m\u001b[0m\u001b[0m\n\u001b[0m\u001b[1;32m   4970\u001b[0m \u001b[0;34m\u001b[0m\u001b[0m\n\u001b[1;32m   4971\u001b[0m         \u001b[0;31m# return a slice\u001b[0m\u001b[0;34m\u001b[0m\u001b[0;34m\u001b[0m\u001b[0;34m\u001b[0m\u001b[0m\n",
            "\u001b[0;32m/usr/local/lib/python3.7/dist-packages/pandas/core/indexes/base.py\u001b[0m in \u001b[0;36mslice_locs\u001b[0;34m(self, start, end, step, kind)\u001b[0m\n\u001b[1;32m   5170\u001b[0m         \u001b[0mstart_slice\u001b[0m \u001b[0;34m=\u001b[0m \u001b[0;32mNone\u001b[0m\u001b[0;34m\u001b[0m\u001b[0;34m\u001b[0m\u001b[0m\n\u001b[1;32m   5171\u001b[0m         \u001b[0;32mif\u001b[0m \u001b[0mstart\u001b[0m \u001b[0;32mis\u001b[0m \u001b[0;32mnot\u001b[0m \u001b[0;32mNone\u001b[0m\u001b[0;34m:\u001b[0m\u001b[0;34m\u001b[0m\u001b[0;34m\u001b[0m\u001b[0m\n\u001b[0;32m-> 5172\u001b[0;31m             \u001b[0mstart_slice\u001b[0m \u001b[0;34m=\u001b[0m \u001b[0mself\u001b[0m\u001b[0;34m.\u001b[0m\u001b[0mget_slice_bound\u001b[0m\u001b[0;34m(\u001b[0m\u001b[0mstart\u001b[0m\u001b[0;34m,\u001b[0m \u001b[0;34m\"left\"\u001b[0m\u001b[0;34m,\u001b[0m \u001b[0mkind\u001b[0m\u001b[0;34m)\u001b[0m\u001b[0;34m\u001b[0m\u001b[0;34m\u001b[0m\u001b[0m\n\u001b[0m\u001b[1;32m   5173\u001b[0m         \u001b[0;32mif\u001b[0m \u001b[0mstart_slice\u001b[0m \u001b[0;32mis\u001b[0m \u001b[0;32mNone\u001b[0m\u001b[0;34m:\u001b[0m\u001b[0;34m\u001b[0m\u001b[0;34m\u001b[0m\u001b[0m\n\u001b[1;32m   5174\u001b[0m             \u001b[0mstart_slice\u001b[0m \u001b[0;34m=\u001b[0m \u001b[0;36m0\u001b[0m\u001b[0;34m\u001b[0m\u001b[0;34m\u001b[0m\u001b[0m\n",
            "\u001b[0;32m/usr/local/lib/python3.7/dist-packages/pandas/core/indexes/base.py\u001b[0m in \u001b[0;36mget_slice_bound\u001b[0;34m(self, label, side, kind)\u001b[0m\n\u001b[1;32m   5090\u001b[0m             \u001b[0;32mexcept\u001b[0m \u001b[0mValueError\u001b[0m\u001b[0;34m:\u001b[0m\u001b[0;34m\u001b[0m\u001b[0;34m\u001b[0m\u001b[0m\n\u001b[1;32m   5091\u001b[0m                 \u001b[0;31m# raise the original KeyError\u001b[0m\u001b[0;34m\u001b[0m\u001b[0;34m\u001b[0m\u001b[0;34m\u001b[0m\u001b[0m\n\u001b[0;32m-> 5092\u001b[0;31m                 \u001b[0;32mraise\u001b[0m \u001b[0merr\u001b[0m\u001b[0;34m\u001b[0m\u001b[0;34m\u001b[0m\u001b[0m\n\u001b[0m\u001b[1;32m   5093\u001b[0m \u001b[0;34m\u001b[0m\u001b[0m\n\u001b[1;32m   5094\u001b[0m         \u001b[0;32mif\u001b[0m \u001b[0misinstance\u001b[0m\u001b[0;34m(\u001b[0m\u001b[0mslc\u001b[0m\u001b[0;34m,\u001b[0m \u001b[0mnp\u001b[0m\u001b[0;34m.\u001b[0m\u001b[0mndarray\u001b[0m\u001b[0;34m)\u001b[0m\u001b[0;34m:\u001b[0m\u001b[0;34m\u001b[0m\u001b[0;34m\u001b[0m\u001b[0m\n",
            "\u001b[0;32m/usr/local/lib/python3.7/dist-packages/pandas/core/indexes/base.py\u001b[0m in \u001b[0;36mget_slice_bound\u001b[0;34m(self, label, side, kind)\u001b[0m\n\u001b[1;32m   5084\u001b[0m         \u001b[0;31m# we need to look up the label\u001b[0m\u001b[0;34m\u001b[0m\u001b[0;34m\u001b[0m\u001b[0;34m\u001b[0m\u001b[0m\n\u001b[1;32m   5085\u001b[0m         \u001b[0;32mtry\u001b[0m\u001b[0;34m:\u001b[0m\u001b[0;34m\u001b[0m\u001b[0;34m\u001b[0m\u001b[0m\n\u001b[0;32m-> 5086\u001b[0;31m             \u001b[0mslc\u001b[0m \u001b[0;34m=\u001b[0m \u001b[0mself\u001b[0m\u001b[0;34m.\u001b[0m\u001b[0mget_loc\u001b[0m\u001b[0;34m(\u001b[0m\u001b[0mlabel\u001b[0m\u001b[0;34m)\u001b[0m\u001b[0;34m\u001b[0m\u001b[0;34m\u001b[0m\u001b[0m\n\u001b[0m\u001b[1;32m   5087\u001b[0m         \u001b[0;32mexcept\u001b[0m \u001b[0mKeyError\u001b[0m \u001b[0;32mas\u001b[0m \u001b[0merr\u001b[0m\u001b[0;34m:\u001b[0m\u001b[0;34m\u001b[0m\u001b[0;34m\u001b[0m\u001b[0m\n\u001b[1;32m   5088\u001b[0m             \u001b[0;32mtry\u001b[0m\u001b[0;34m:\u001b[0m\u001b[0;34m\u001b[0m\u001b[0;34m\u001b[0m\u001b[0m\n",
            "\u001b[0;32m/usr/local/lib/python3.7/dist-packages/pandas/core/indexes/base.py\u001b[0m in \u001b[0;36mget_loc\u001b[0;34m(self, key, method, tolerance)\u001b[0m\n\u001b[1;32m   2898\u001b[0m                 \u001b[0;32mreturn\u001b[0m \u001b[0mself\u001b[0m\u001b[0;34m.\u001b[0m\u001b[0m_engine\u001b[0m\u001b[0;34m.\u001b[0m\u001b[0mget_loc\u001b[0m\u001b[0;34m(\u001b[0m\u001b[0mcasted_key\u001b[0m\u001b[0;34m)\u001b[0m\u001b[0;34m\u001b[0m\u001b[0;34m\u001b[0m\u001b[0m\n\u001b[1;32m   2899\u001b[0m             \u001b[0;32mexcept\u001b[0m \u001b[0mKeyError\u001b[0m \u001b[0;32mas\u001b[0m \u001b[0merr\u001b[0m\u001b[0;34m:\u001b[0m\u001b[0;34m\u001b[0m\u001b[0;34m\u001b[0m\u001b[0m\n\u001b[0;32m-> 2900\u001b[0;31m                 \u001b[0;32mraise\u001b[0m \u001b[0mKeyError\u001b[0m\u001b[0;34m(\u001b[0m\u001b[0mkey\u001b[0m\u001b[0;34m)\u001b[0m \u001b[0;32mfrom\u001b[0m \u001b[0merr\u001b[0m\u001b[0;34m\u001b[0m\u001b[0;34m\u001b[0m\u001b[0m\n\u001b[0m\u001b[1;32m   2901\u001b[0m \u001b[0;34m\u001b[0m\u001b[0m\n\u001b[1;32m   2902\u001b[0m         \u001b[0;32mif\u001b[0m \u001b[0mtolerance\u001b[0m \u001b[0;32mis\u001b[0m \u001b[0;32mnot\u001b[0m \u001b[0;32mNone\u001b[0m\u001b[0;34m:\u001b[0m\u001b[0;34m\u001b[0m\u001b[0;34m\u001b[0m\u001b[0m\n",
            "\u001b[0;31mKeyError\u001b[0m: 891"
          ]
        }
      ],
      "metadata": {
        "colab": {
          "base_uri": "https://localhost:8080/",
          "height": 589
        },
        "id": "6K7AsqWBmKZo",
        "outputId": "ac429510-ce6b-4a38-8a5b-531a2c3aa5a0"
      }
    },
    {
      "cell_type": "markdown",
      "source": [
        "## Modelo y predicciones"
      ],
      "metadata": {
        "id": "No3C46x8YIIZ"
      }
    },
    {
      "cell_type": "markdown",
      "source": [
        "Usando el modelo de random Forest"
      ],
      "metadata": {
        "id": "xx8ja_TYkT0n"
      }
    },
    {
      "cell_type": "code",
      "execution_count": 138,
      "source": [
        "drop_cols = ['Embarked', 'Family', 'Family_Size', 'Survived', 'Family_Size_bin', 'Deck', 'Age', 'Name', 'Parch', 'PassengerId', 'Pclass', 'Sex', 'SibSp', 'Title', 'Ticket', 'Cabin']\n",
        "\n",
        "drop_cols2 = ['Embarked', 'Family', 'Family_Size', 'Family_Size_bin', 'Deck', 'Fare', 'Name', 'Parch', 'PassengerId', 'Pclass', 'Sex', 'SibSp', 'Title', 'Ticket', 'Cabin']"
      ],
      "outputs": [],
      "metadata": {
        "id": "IbipOozrYHHZ"
      }
    },
    {
      "cell_type": "code",
      "execution_count": 165,
      "source": [
        "X = StandardScaler().fit_transform(df_train.drop(columns=drop_cols))\n",
        "y = df_train['Survived'].values\n",
        "X_test = StandardScaler().fit_transform(df_test.drop(columns=drop_cols2))\n",
        "\n",
        "#Crear train, test splits\n",
        "X_train, X_test, y_train, y_test = train_test_split(X, y, test_size=0.25)\n",
        "#Definir los parametros del modelo\n",
        "model = RandomForestClassifier(criterior='gini',\n",
        "                               n_estimators=1750,\n",
        "                               max_depth=7,\n",
        "                               main_samples_split=6,\n",
        "                               main_samples_leaf=6,\n",
        "                               max_features='auto',\n",
        "                               oob_Score=True,\n",
        "                               random_state=42,\n",
        "                               n_jobs=-1,\n",
        "                               verbose=1)\n",
        "\n",
        "model.fit(X_train, y_train)\n",
        "predictions = model.predict(X_test)\n",
        "print(model.score(X_test1, y_test1))\n",
        "output = pd.DataFrame({'PassengerId': test_data.PassengerId, 'Survived': predictions})\n",
        "output['Survived'] = output['Survived'].astype(int)"
      ],
      "outputs": [
        {
          "output_type": "error",
          "ename": "NameError",
          "evalue": "ignored",
          "traceback": [
            "\u001b[0;31m---------------------------------------------------------------------------\u001b[0m",
            "\u001b[0;31mNameError\u001b[0m                                 Traceback (most recent call last)",
            "\u001b[0;32m<ipython-input-165-db3927d6c42a>\u001b[0m in \u001b[0;36m<module>\u001b[0;34m()\u001b[0m\n\u001b[0;32m----> 1\u001b[0;31m \u001b[0mX\u001b[0m \u001b[0;34m=\u001b[0m \u001b[0mStandardScaler\u001b[0m\u001b[0;34m(\u001b[0m\u001b[0;34m)\u001b[0m\u001b[0;34m.\u001b[0m\u001b[0mfit_transform\u001b[0m\u001b[0;34m(\u001b[0m\u001b[0mdf_train\u001b[0m\u001b[0;34m.\u001b[0m\u001b[0mdrop\u001b[0m\u001b[0;34m(\u001b[0m\u001b[0mcolumns\u001b[0m\u001b[0;34m=\u001b[0m\u001b[0mdrop_cols\u001b[0m\u001b[0;34m)\u001b[0m\u001b[0;34m)\u001b[0m\u001b[0;34m\u001b[0m\u001b[0;34m\u001b[0m\u001b[0m\n\u001b[0m\u001b[1;32m      2\u001b[0m \u001b[0my\u001b[0m \u001b[0;34m=\u001b[0m \u001b[0mdf_train\u001b[0m\u001b[0;34m[\u001b[0m\u001b[0;34m'Survived'\u001b[0m\u001b[0;34m]\u001b[0m\u001b[0;34m.\u001b[0m\u001b[0mvalues\u001b[0m\u001b[0;34m\u001b[0m\u001b[0;34m\u001b[0m\u001b[0m\n\u001b[1;32m      3\u001b[0m \u001b[0mX_test\u001b[0m \u001b[0;34m=\u001b[0m \u001b[0mStandardScaler\u001b[0m\u001b[0;34m(\u001b[0m\u001b[0;34m)\u001b[0m\u001b[0;34m.\u001b[0m\u001b[0mfit_transform\u001b[0m\u001b[0;34m(\u001b[0m\u001b[0mdf_test\u001b[0m\u001b[0;34m.\u001b[0m\u001b[0mdrop\u001b[0m\u001b[0;34m(\u001b[0m\u001b[0mcolumns\u001b[0m\u001b[0;34m=\u001b[0m\u001b[0mdrop_cols2\u001b[0m\u001b[0;34m)\u001b[0m\u001b[0;34m)\u001b[0m\u001b[0;34m\u001b[0m\u001b[0;34m\u001b[0m\u001b[0m\n\u001b[1;32m      4\u001b[0m \u001b[0;34m\u001b[0m\u001b[0m\n\u001b[1;32m      5\u001b[0m \u001b[0;31m#Crear train, test splits\u001b[0m\u001b[0;34m\u001b[0m\u001b[0;34m\u001b[0m\u001b[0;34m\u001b[0m\u001b[0m\n",
            "\u001b[0;31mNameError\u001b[0m: name 'df_train' is not defined"
          ]
        }
      ],
      "metadata": {
        "colab": {
          "base_uri": "https://localhost:8080/",
          "height": 229
        },
        "id": "5b61ZVfGchIO",
        "outputId": "fbddb25b-9377-4f62-d12f-90a5cc90cdaa"
      }
    },
    {
      "cell_type": "markdown",
      "source": [
        "Usando regresion linear"
      ],
      "metadata": {
        "id": "MDXQWViylFwT"
      }
    },
    {
      "cell_type": "code",
      "execution_count": 169,
      "source": [
        "lr = LinearRegression()\n",
        "\n",
        "#data[[\"G3\"]] = df[[\"G3\"]]\n",
        "# Separamos respuesta en una variable Y\n",
        "\n",
        "X = lr.fit(df_train.drop(columns=drop_cols))\n",
        "y = df_train['Survived'].values\n",
        "X_test = lr.fit(df_test.drop(columns=drop_cols2))\n",
        "X_train, X_test, y_train, y_test = train_test_split(X, y, test_size=0.25)\n",
        "\n",
        "# Entrenar modelo con lineal regression\n",
        "lr.fit(X_train, y_train)\n",
        "y_pred = lr.predict(X_test)\n",
        "\n",
        "\n",
        "acc_lr = r2_score(y_test, y_pred)\n",
        "\n",
        "print('Linear regression r2 score: %.2f' % acc_lr)\n"
      ],
      "outputs": [
        {
          "output_type": "error",
          "ename": "NameError",
          "evalue": "ignored",
          "traceback": [
            "\u001b[0;31m---------------------------------------------------------------------------\u001b[0m",
            "\u001b[0;31mNameError\u001b[0m                                 Traceback (most recent call last)",
            "\u001b[0;32m<ipython-input-169-77660e6f810a>\u001b[0m in \u001b[0;36m<module>\u001b[0;34m()\u001b[0m\n\u001b[1;32m      4\u001b[0m \u001b[0;31m# Separamos respuesta en una variable Y\u001b[0m\u001b[0;34m\u001b[0m\u001b[0;34m\u001b[0m\u001b[0;34m\u001b[0m\u001b[0m\n\u001b[1;32m      5\u001b[0m \u001b[0;34m\u001b[0m\u001b[0m\n\u001b[0;32m----> 6\u001b[0;31m \u001b[0mX\u001b[0m \u001b[0;34m=\u001b[0m \u001b[0mlr\u001b[0m\u001b[0;34m.\u001b[0m\u001b[0mfit\u001b[0m\u001b[0;34m(\u001b[0m\u001b[0mdf_train\u001b[0m\u001b[0;34m.\u001b[0m\u001b[0mdrop\u001b[0m\u001b[0;34m(\u001b[0m\u001b[0mcolumns\u001b[0m\u001b[0;34m=\u001b[0m\u001b[0mdrop_cols\u001b[0m\u001b[0;34m)\u001b[0m\u001b[0;34m)\u001b[0m\u001b[0;34m\u001b[0m\u001b[0;34m\u001b[0m\u001b[0m\n\u001b[0m\u001b[1;32m      7\u001b[0m \u001b[0my\u001b[0m \u001b[0;34m=\u001b[0m \u001b[0mdf_train\u001b[0m\u001b[0;34m[\u001b[0m\u001b[0;34m'Survived'\u001b[0m\u001b[0;34m]\u001b[0m\u001b[0;34m.\u001b[0m\u001b[0mvalues\u001b[0m\u001b[0;34m\u001b[0m\u001b[0;34m\u001b[0m\u001b[0m\n\u001b[1;32m      8\u001b[0m \u001b[0mX_test\u001b[0m \u001b[0;34m=\u001b[0m \u001b[0mlr\u001b[0m\u001b[0;34m.\u001b[0m\u001b[0mfit\u001b[0m\u001b[0;34m(\u001b[0m\u001b[0mdf_test\u001b[0m\u001b[0;34m.\u001b[0m\u001b[0mdrop\u001b[0m\u001b[0;34m(\u001b[0m\u001b[0mcolumns\u001b[0m\u001b[0;34m=\u001b[0m\u001b[0mdrop_cols2\u001b[0m\u001b[0;34m)\u001b[0m\u001b[0;34m)\u001b[0m\u001b[0;34m\u001b[0m\u001b[0;34m\u001b[0m\u001b[0m\n",
            "\u001b[0;31mNameError\u001b[0m: name 'df_train' is not defined"
          ]
        }
      ],
      "metadata": {
        "colab": {
          "base_uri": "https://localhost:8080/",
          "height": 229
        },
        "id": "a5kfrZwFlFW4",
        "outputId": "a7cd4329-48da-452a-b71f-1215c37709fe"
      }
    },
    {
      "cell_type": "markdown",
      "source": [
        "Usando svm"
      ],
      "metadata": {
        "id": "RzWjuBVvme9I"
      }
    },
    {
      "cell_type": "code",
      "execution_count": 170,
      "source": [
        "svm = SVR(kernel=\"linear\")\n",
        "\n",
        "X = svm.fit(df_train.drop(columns=drop_cols))\n",
        "y = df_train['Survived'].values\n",
        "X_test = svm.fit(df_test.drop(columns=drop_cols2))\n",
        "\n",
        "X_train, X_test, y_train, y_test = train_test_split(X, y, test_size=0.25)\n",
        "svm.fit(X_train, y_train)\n",
        "y_pred_svr = svm.predict(X_test)\n",
        "acc_svr = r2_score(y_test, y_pred_svr)\n",
        "\n",
        "print('Linear regression SVR: %.2f' % acc_svr)"
      ],
      "outputs": [
        {
          "output_type": "error",
          "ename": "NameError",
          "evalue": "ignored",
          "traceback": [
            "\u001b[0;31m---------------------------------------------------------------------------\u001b[0m",
            "\u001b[0;31mNameError\u001b[0m                                 Traceback (most recent call last)",
            "\u001b[0;32m<ipython-input-170-dd5b3c6812ce>\u001b[0m in \u001b[0;36m<module>\u001b[0;34m()\u001b[0m\n\u001b[1;32m      1\u001b[0m \u001b[0msvm\u001b[0m \u001b[0;34m=\u001b[0m \u001b[0mSVR\u001b[0m\u001b[0;34m(\u001b[0m\u001b[0mkernel\u001b[0m\u001b[0;34m=\u001b[0m\u001b[0;34m\"linear\"\u001b[0m\u001b[0;34m)\u001b[0m\u001b[0;34m\u001b[0m\u001b[0;34m\u001b[0m\u001b[0m\n\u001b[1;32m      2\u001b[0m \u001b[0;34m\u001b[0m\u001b[0m\n\u001b[0;32m----> 3\u001b[0;31m \u001b[0mX\u001b[0m \u001b[0;34m=\u001b[0m \u001b[0msvm\u001b[0m\u001b[0;34m.\u001b[0m\u001b[0mfit\u001b[0m\u001b[0;34m(\u001b[0m\u001b[0mdf_train\u001b[0m\u001b[0;34m.\u001b[0m\u001b[0mdrop\u001b[0m\u001b[0;34m(\u001b[0m\u001b[0mcolumns\u001b[0m\u001b[0;34m=\u001b[0m\u001b[0mdrop_cols\u001b[0m\u001b[0;34m)\u001b[0m\u001b[0;34m)\u001b[0m\u001b[0;34m\u001b[0m\u001b[0;34m\u001b[0m\u001b[0m\n\u001b[0m\u001b[1;32m      4\u001b[0m \u001b[0my\u001b[0m \u001b[0;34m=\u001b[0m \u001b[0mdf_train\u001b[0m\u001b[0;34m[\u001b[0m\u001b[0;34m'Survived'\u001b[0m\u001b[0;34m]\u001b[0m\u001b[0;34m.\u001b[0m\u001b[0mvalues\u001b[0m\u001b[0;34m\u001b[0m\u001b[0;34m\u001b[0m\u001b[0m\n\u001b[1;32m      5\u001b[0m \u001b[0mX_test\u001b[0m \u001b[0;34m=\u001b[0m \u001b[0msvm\u001b[0m\u001b[0;34m.\u001b[0m\u001b[0mfit\u001b[0m\u001b[0;34m(\u001b[0m\u001b[0mdf_test\u001b[0m\u001b[0;34m.\u001b[0m\u001b[0mdrop\u001b[0m\u001b[0;34m(\u001b[0m\u001b[0mcolumns\u001b[0m\u001b[0;34m=\u001b[0m\u001b[0mdrop_cols2\u001b[0m\u001b[0;34m)\u001b[0m\u001b[0;34m)\u001b[0m\u001b[0;34m\u001b[0m\u001b[0;34m\u001b[0m\u001b[0m\n",
            "\u001b[0;31mNameError\u001b[0m: name 'df_train' is not defined"
          ]
        }
      ],
      "metadata": {
        "colab": {
          "base_uri": "https://localhost:8080/",
          "height": 229
        },
        "id": "V3tTBacwmeCB",
        "outputId": "4f2bb4a2-a783-45cf-df84-b66c53cc4a30"
      }
    }
  ]
}